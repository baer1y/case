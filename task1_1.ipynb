{
 "cells": [
  {
   "cell_type": "code",
   "execution_count": 222,
   "id": "d474d172-9232-454f-a0fe-622b7b9c4552",
   "metadata": {},
   "outputs": [],
   "source": [
    "import pandas as pd\n",
    "import numpy as np\n",
    "import string\n",
    "\n",
    "from googletrans import Translator"
   ]
  },
  {
   "cell_type": "code",
   "execution_count": 223,
   "id": "ec1f60f0-f6d0-46d2-b062-c5043653a1f4",
   "metadata": {},
   "outputs": [
    {
     "name": "stdout",
     "output_type": "stream",
     "text": [
      "<class 'list'>\n"
     ]
    },
    {
     "name": "stderr",
     "output_type": "stream",
     "text": [
      "[nltk_data] Downloading package stopwords to\n",
      "[nltk_data]     C:\\Users\\Бахтияр\\AppData\\Roaming\\nltk_data...\n",
      "[nltk_data]   Package stopwords is already up-to-date!\n"
     ]
    }
   ],
   "source": [
    "import nltk\n",
    "from nltk.corpus import stopwords\n",
    " \n",
    "nltk.download('stopwords')\n",
    "print(type(stopwords.words('russian')))"
   ]
  },
  {
   "cell_type": "code",
   "execution_count": 224,
   "id": "aaeaa5d2-1fff-4109-95d1-b7c177184ff0",
   "metadata": {},
   "outputs": [],
   "source": [
    "translator = Translator()\n",
    "\n",
    "punctuations=['?',':','!',',','.',';','|','(',')','--', '-', '#', '\"', '№', '%', '«', '»', '–', \"'\"]\n",
    "for i in string.punctuation:\n",
    "    if i not in punctuations:\n",
    "        punctuations.append(i)"
   ]
  },
  {
   "cell_type": "code",
   "execution_count": 225,
   "id": "9d2ce2f1-d289-4086-91b3-03203ff04ac5",
   "metadata": {},
   "outputs": [],
   "source": [
    "raw_data_articles = pd.read_csv(\"articles.csv\")\n",
    "raw_data_lif_sit = pd.read_csv(\"life_situations.csv\")\n",
    "raw_data_news = pd.read_csv(\"news.csv\")\n",
    "raw_data_services = pd.read_csv(\"services.csv\")"
   ]
  },
  {
   "cell_type": "code",
   "execution_count": 226,
   "id": "5676ac9d-fc0c-4e7e-b0f0-94dcd54112b8",
   "metadata": {},
   "outputs": [],
   "source": [
    "def translate_words(a):\n",
    "    words = []\n",
    "    for i in a:\n",
    "        translated = translator.translate(i, dest='en')\n",
    "        words.append(translated.text)\n",
    "    return words"
   ]
  },
  {
   "cell_type": "code",
   "execution_count": 227,
   "id": "5130d83e-86fb-4aa7-a812-cd2c573cf8e1",
   "metadata": {},
   "outputs": [
    {
     "name": "stdout",
     "output_type": "stream",
     "text": [
      "ASDFGH\n"
     ]
    }
   ],
   "source": [
    "print(\"ASDFGHJKL\"[0:-3])"
   ]
  },
  {
   "cell_type": "code",
   "execution_count": 228,
   "id": "e9ca2b85-7352-4b67-9c16-c55741457ab7",
   "metadata": {},
   "outputs": [],
   "source": [
    "def normalize_words(a):\n",
    "        ans = []\n",
    "        for i in [x.lower() for x in a.split()]:\n",
    "            s = \"\"\n",
    "\n",
    "            for g in i:\n",
    "                if g not in punctuations:\n",
    "                    s += g\n",
    "                elif g == '-':\n",
    "                    if len(s) != 0 and not (s in stopwords.words('russian') or s in stopwords.words('english')):\n",
    "                        if len(s) >= 6:\n",
    "                            ans.append(s[:-3])\n",
    "                        else:\n",
    "                            ans.append(s)\n",
    "                        s = \"\"\n",
    "\n",
    "            if not (s in stopwords.words('russian') or s in stopwords.words('english')):\n",
    "                if len(s) >= 6:\n",
    "                    ans.append(s[:-3])\n",
    "                else:\n",
    "                    ans.append(s)\n",
    "        return ans"
   ]
  },
  {
   "cell_type": "code",
   "execution_count": 229,
   "id": "6856b2b7-9605-45b2-938a-eaf98fddecb9",
   "metadata": {},
   "outputs": [],
   "source": [
    "def standards_words(arr, var, idx):\n",
    "    words = []\n",
    "    count = {}\n",
    "    ans = []\n",
    "    \n",
    "    for name in var:\n",
    "        if len(arr[arr['Unnamed: 0'] == idx][name]) != 0:\n",
    "            if arr[arr['Unnamed: 0'] == idx][name].isnull().sum() == 0:\n",
    "                words += normalize_words(arr[arr['Unnamed: 0'] == idx][name].to_list()[0])\n",
    "                \n",
    "    for i in words:\n",
    "        count[i] = count.get(i, 0) + 1\n",
    "    cnt = 0\n",
    "    for i in {k: v for k, v in sorted(count.items(), key=lambda item: -item[1])}:\n",
    "        cnt += 1\n",
    "        \n",
    "        if cnt == 500:\n",
    "            break\n",
    "        ans.append(i)\n",
    "    return ans\n",
    "    "
   ]
  },
  {
   "cell_type": "code",
   "execution_count": 230,
   "id": "80f7b8a6-b577-494b-b245-e36f4dccc595",
   "metadata": {},
   "outputs": [],
   "source": [
    "def standards_words_question(question):\n",
    "    words = []\n",
    "    count = {}\n",
    "    ans = []\n",
    "\n",
    "    words = normalize_words(question)\n",
    "    \n",
    "    for i in words:\n",
    "        count[i] = count.get(i, 0) + 1\n",
    "    cnt = 0\n",
    "    for i in {k: v for k, v in sorted(count.items(), key=lambda item: -item[1])}:\n",
    "        cnt += 1\n",
    "        ans.append(i)\n",
    "        if cnt == 500:\n",
    "            break\n",
    "    return ans\n",
    "    "
   ]
  },
  {
   "cell_type": "code",
   "execution_count": null,
   "id": "dfbf5821-75c6-400f-823b-e2daec5fae09",
   "metadata": {},
   "outputs": [],
   "source": [
    "words = []\n",
    "\n",
    "for i in raw_data_articles['Unnamed: 0'].to_list():\n",
    "    test = standards_words(raw_data_articles, ['title', 'content'], i)\n",
    "    words.append(test)"
   ]
  },
  {
   "cell_type": "code",
   "execution_count": null,
   "id": "3ac794bf-83a0-44d8-b370-c5ff646f0327",
   "metadata": {},
   "outputs": [],
   "source": [
    "raw_data_articles['Words'] = words"
   ]
  },
  {
   "cell_type": "code",
   "execution_count": null,
   "id": "d68877f4-2edc-4c79-b6d7-13060efe06ba",
   "metadata": {},
   "outputs": [],
   "source": [
    "raw_data_articles.drop(['id', 'projects', 'title', 'content'], axis=1, inplace=True)"
   ]
  },
  {
   "cell_type": "code",
   "execution_count": null,
   "id": "3fd3099e-d3e4-42e9-8137-5cc75a36a131",
   "metadata": {},
   "outputs": [],
   "source": [
    "raw_data_articles"
   ]
  },
  {
   "cell_type": "code",
   "execution_count": null,
   "id": "aa0e8035-135b-41d7-bdc4-035d8d9a10a1",
   "metadata": {},
   "outputs": [],
   "source": [
    "raw_data_news"
   ]
  },
  {
   "cell_type": "code",
   "execution_count": null,
   "id": "5c30fd34-d5c9-44fc-b755-dcefd1ca3ba0",
   "metadata": {},
   "outputs": [],
   "source": [
    "words = []\n",
    "\n",
    "for i in raw_data_news['Unnamed: 0'].to_list():\n",
    "    test = standards_words(raw_data_news, ['title', 'body'], i)\n",
    "    words.append(test)"
   ]
  },
  {
   "cell_type": "code",
   "execution_count": null,
   "id": "a058be1f-543a-4ef0-b4f3-f0de23be586c",
   "metadata": {},
   "outputs": [],
   "source": [
    "raw_data_news['Words'] = words\n",
    "raw_data_news.drop(['id', 'projects', 'title', 'body', 'short_description'], axis=1, inplace=True)"
   ]
  },
  {
   "cell_type": "code",
   "execution_count": null,
   "id": "4ba6fd6b-3ee4-4329-8d5e-7bcba85d70f2",
   "metadata": {},
   "outputs": [],
   "source": [
    "words = []\n",
    "\n",
    "for i in raw_data_services['Unnamed: 0'].to_list():\n",
    "    test = standards_words(raw_data_services, ['additional_info', 'description', 'full_title', 'short_title', 'title', 'result_description'], i)\n",
    "    words.append(test)"
   ]
  },
  {
   "cell_type": "code",
   "execution_count": null,
   "id": "066cba79-f665-4b86-950d-fd56efb05b3d",
   "metadata": {},
   "outputs": [],
   "source": [
    "raw_data_services['Words'] = words\n",
    "raw_data_services.drop(['id', 'additional_info', 'description', 'full_title', 'short_title', 'title', 'result_description'], axis=1, inplace=True)"
   ]
  },
  {
   "cell_type": "code",
   "execution_count": null,
   "id": "4b7f8236-85a2-4ca5-8731-44e7e2ead81d",
   "metadata": {},
   "outputs": [],
   "source": [
    "words = []\n",
    "\n",
    "for i in raw_data_lif_sit['Unnamed: 0'].to_list():\n",
    "    test = standards_words(raw_data_lif_sit, ['intro', 'title_main', 'title_sub', 'instruction'], i)\n",
    "    words.append(test)"
   ]
  },
  {
   "cell_type": "code",
   "execution_count": null,
   "id": "d45cd8f8-6904-4841-a3e2-b5ba5b8ff3a5",
   "metadata": {},
   "outputs": [],
   "source": [
    "raw_data_lif_sit['Words'] = words\n",
    "raw_data_lif_sit.drop(['id', 'intro', 'title_main', 'title_sub', 'subid', 'instruction'], axis=1, inplace=True)"
   ]
  },
  {
   "cell_type": "code",
   "execution_count": null,
   "id": "8b7abdd9-2cf6-4546-b892-78916b363bd5",
   "metadata": {},
   "outputs": [],
   "source": [
    "raw_data_lif_sit.rename(columns={\"URL\": \"url\"}, inplace=True)"
   ]
  },
  {
   "cell_type": "code",
   "execution_count": null,
   "id": "afe82d6a-3143-417f-b7c0-729be177f04f",
   "metadata": {},
   "outputs": [],
   "source": [
    "data = pd.concat([raw_data_articles, raw_data_lif_sit, raw_data_news, raw_data_services])\n",
    "data"
   ]
  },
  {
   "cell_type": "code",
   "execution_count": null,
   "id": "66a635b9-5902-45b2-8ec5-2f4af63e8a99",
   "metadata": {},
   "outputs": [],
   "source": [
    "raw_data_train = pd.read_csv(\"epir_test.csv\")"
   ]
  },
  {
   "cell_type": "code",
   "execution_count": null,
   "id": "46bcbe22-9954-44fa-b043-22e2c2112424",
   "metadata": {},
   "outputs": [],
   "source": [
    "data_kk =  data[data['sys_lang'] == 'kk']"
   ]
  },
  {
   "cell_type": "code",
   "execution_count": null,
   "id": "8a96a968-2667-473e-8243-20fca4633c38",
   "metadata": {},
   "outputs": [],
   "source": [
    "data_ru = data[data['sys_lang'] == 'ru']"
   ]
  },
  {
   "cell_type": "code",
   "execution_count": null,
   "id": "8d63793c-6860-4895-b3e7-8fe8d0c5b55a",
   "metadata": {},
   "outputs": [],
   "source": [
    "data_qq = data[data['sys_lang'] == 'qq']"
   ]
  },
  {
   "cell_type": "code",
   "execution_count": null,
   "id": "bc32353b-d0ae-4c4a-a09c-547cfd16e1eb",
   "metadata": {},
   "outputs": [],
   "source": [
    "data_en = data[data['sys_lang'] == 'en']"
   ]
  },
  {
   "cell_type": "code",
   "execution_count": null,
   "id": "34660a22-bf16-4878-9807-fb4ea4d14f47",
   "metadata": {},
   "outputs": [],
   "source": [
    "answers_idx = []\n",
    "\n",
    "for question in raw_data_train[\"question\"]: \n",
    "    idx = 0\n",
    "    index = 0\n",
    "    mx = 0\n",
    "\n",
    "    array_ques_words = standards_words_question(question)\n",
    "\n",
    "    eng = True\n",
    "\n",
    "    for i in array_ques_words[0]:\n",
    "        if not(i >= 'a' and i <= 'z'):\n",
    "            eng = False\n",
    "            break\n",
    "    if eng:\n",
    "        for answers in data_en:\n",
    "            cnt = 0\n",
    "\n",
    "            for q_word in array_ques_words:\n",
    "                if q_word in answers:\n",
    "                    cnt += 1\n",
    "            if cnt > mx:\n",
    "                mx = cnt\n",
    "                index = idx\n",
    "            idx += 1\n",
    "        answers_idx.append(index)\n",
    "    else:\n",
    "        kaz = False\n",
    "\n",
    "        for q_word in array_ques_words:\n",
    "                for let in q_word:\n",
    "                    if let in 'әіңғүұқөһ':\n",
    "                        kaz = True\n",
    "                        break\n",
    "\n",
    "        if kaz:\n",
    "            for answers in data_kk:\n",
    "                cnt = 0\n",
    "\n",
    "                for q_word in array_ques_words:\n",
    "                    if q_word in answers:\n",
    "                        cnt += 1\n",
    "                if cnt > mx:\n",
    "                    mx = cnt\n",
    "                    index = idx\n",
    "                idx += 1\n",
    "            answers_idx.append(index)\n",
    "        else:\n",
    "            for answers in data_ru:\n",
    "                cnt = 0\n",
    "\n",
    "                for q_word in array_ques_words:\n",
    "                    if q_word in answers:\n",
    "                        cnt += 1\n",
    "                if cnt > mx:\n",
    "                    mx = cnt\n",
    "                    index = idx\n",
    "                idx += 1\n",
    "            answers_idx.append(index)"
   ]
  },
  {
   "cell_type": "code",
   "execution_count": null,
   "id": "29f0906e-300b-4078-80af-299944b506dd",
   "metadata": {},
   "outputs": [],
   "source": [
    "answers_idx\n",
    "\n",
    "last_answers = []\n",
    "\n",
    "for i in answers_idx:\n",
    "    last_answers.append(data[i:i+1][\"Unnamed: 0\"].to_list())\n",
    "\n",
    "last_answers"
   ]
  },
  {
   "cell_type": "code",
   "execution_count": null,
   "id": "da664421-0b33-4d80-8501-9433ec12ea88",
   "metadata": {},
   "outputs": [],
   "source": [
    "answers_idx = []\n",
    "for i in last_answers:\n",
    "    answers_idx.append(i[0])"
   ]
  },
  {
   "cell_type": "code",
   "execution_count": null,
   "id": "1b7a9e88-5fda-4ab5-b140-39e29ab0feb6",
   "metadata": {},
   "outputs": [],
   "source": [
    "answers_idx"
   ]
  },
  {
   "cell_type": "code",
   "execution_count": 202,
   "id": "c65860bb-8bff-42c0-a200-c6f1f3b42355",
   "metadata": {},
   "outputs": [
    {
     "data": {
      "text/plain": [
       "[147888,\n",
       " 38519,\n",
       " 8753,\n",
       " 12759,\n",
       " 10394,\n",
       " 7810,\n",
       " 7810,\n",
       " 18349,\n",
       " 10551,\n",
       " 10551,\n",
       " 54427,\n",
       " 4702,\n",
       " 836,\n",
       " 836,\n",
       " 83335,\n",
       " 49673,\n",
       " 52061,\n",
       " 6804,\n",
       " 6107,\n",
       " 65206,\n",
       " 88347,\n",
       " 77922,\n",
       " 22302,\n",
       " 6770,\n",
       " 67298,\n",
       " 38032,\n",
       " 45863,\n",
       " 45863,\n",
       " 3469,\n",
       " 89287,\n",
       " 58364,\n",
       " 22302,\n",
       " 19961,\n",
       " 9789,\n",
       " 52967,\n",
       " 3948,\n",
       " 29658,\n",
       " 50409,\n",
       " 28136,\n",
       " 4698,\n",
       " 7810,\n",
       " 199653,\n",
       " 10600,\n",
       " 5992,\n",
       " 18095,\n",
       " 16919,\n",
       " 7126,\n",
       " 3408,\n",
       " 23101,\n",
       " 65497,\n",
       " 55325,\n",
       " 50734,\n",
       " 11653,\n",
       " 98539,\n",
       " 95413,\n",
       " 174426,\n",
       " 30632,\n",
       " 184512,\n",
       " 25844,\n",
       " 184512,\n",
       " 129263,\n",
       " 4424,\n",
       " 106870,\n",
       " 57300,\n",
       " 6485,\n",
       " 14250,\n",
       " 10381,\n",
       " 3077,\n",
       " 39381,\n",
       " 87269,\n",
       " 67501,\n",
       " 7533,\n",
       " 16468,\n",
       " 4206,\n",
       " 3099,\n",
       " 2885,\n",
       " 2885,\n",
       " 207030,\n",
       " 118251,\n",
       " 19384,\n",
       " 3099,\n",
       " 27546,\n",
       " 38010,\n",
       " 3469,\n",
       " 204861,\n",
       " 206136,\n",
       " 29896,\n",
       " 4055,\n",
       " 16843,\n",
       " 52021,\n",
       " 135900,\n",
       " 3543,\n",
       " 11280,\n",
       " 13016,\n",
       " 11063,\n",
       " 4076,\n",
       " 4717,\n",
       " 5072,\n",
       " 2942,\n",
       " 11447,\n",
       " 9069,\n",
       " 5067,\n",
       " 5172,\n",
       " 205024,\n",
       " 22978,\n",
       " 206037,\n",
       " 10205,\n",
       " 203676,\n",
       " 4702,\n",
       " 203676,\n",
       " 38519,\n",
       " 38519,\n",
       " 4702,\n",
       " 203225,\n",
       " 38519,\n",
       " 204204,\n",
       " 6787,\n",
       " 34420,\n",
       " 204204,\n",
       " 2987,\n",
       " 205598,\n",
       " 128617,\n",
       " 3405,\n",
       " 9926]"
      ]
     },
     "execution_count": 202,
     "metadata": {},
     "output_type": "execute_result"
    }
   ],
   "source": [
    "answers_idx"
   ]
  },
  {
   "cell_type": "code",
   "execution_count": 203,
   "id": "5497d187-1a8c-4ec7-89c1-1ca67e4e16ba",
   "metadata": {},
   "outputs": [],
   "source": [
    "raw_data_train['index'] = answers_idx"
   ]
  },
  {
   "cell_type": "code",
   "execution_count": 204,
   "id": "87b3af1c-796e-4768-a647-467091b2a244",
   "metadata": {},
   "outputs": [],
   "source": [
    "raw_data_train.drop(['question'], axis=1, inplace=True)"
   ]
  },
  {
   "cell_type": "code",
   "execution_count": 205,
   "id": "a60942dd-d56d-452b-95fc-a71ea773359a",
   "metadata": {},
   "outputs": [],
   "source": [
    "raw_data_train.to_csv('res3.csv', index=False)"
   ]
  },
  {
   "cell_type": "code",
   "execution_count": null,
   "id": "952ea7b7-0b7d-435f-a190-8bc074bf5d2d",
   "metadata": {},
   "outputs": [],
   "source": []
  }
 ],
 "metadata": {
  "kernelspec": {
   "display_name": "Python 3 (ipykernel)",
   "language": "python",
   "name": "python3"
  },
  "language_info": {
   "codemirror_mode": {
    "name": "ipython",
    "version": 3
   },
   "file_extension": ".py",
   "mimetype": "text/x-python",
   "name": "python",
   "nbconvert_exporter": "python",
   "pygments_lexer": "ipython3",
   "version": "3.11.5"
  }
 },
 "nbformat": 4,
 "nbformat_minor": 5
}
